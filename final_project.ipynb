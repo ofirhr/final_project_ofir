{
 "cells": [
  {
   "cell_type": "markdown",
   "id": "87f3ebb6",
   "metadata": {},
   "source": [
    "# Data Science Tools and Techniques"
   ]
  },
  {
   "cell_type": "markdown",
   "id": "d2ea1920",
   "metadata": {},
   "source": [
    "## Introduction\n",
    "This notebook summarizes key concepts and tools used in data science. It includes examples of programming languages, libraries, tools, and basic code operations."
   ]
  },
  {
   "cell_type": "markdown",
   "id": "0cc49e26",
   "metadata": {},
   "source": [
    "## Data Science Languages\n",
    "- Python\n",
    "- R\n",
    "- SQL\n",
    "- Java\n",
    "- Scala"
   ]
  },
  {
   "cell_type": "markdown",
   "id": "41c25018",
   "metadata": {},
   "source": [
    "## Data Science Libraries\n",
    "- Pandas\n",
    "- NumPy\n",
    "- Matplotlib\n",
    "- ggplot2\n",
    "- Scikit-learn"
   ]
  },
  {
   "cell_type": "markdown",
   "id": "384fc180",
   "metadata": {},
   "source": [
    "## Data Science Tools\n",
    "\n",
    "| Tool           | Description                          |\n",
    "|----------------|--------------------------------------|\n",
    "| Jupyter        | Interactive coding environment       |\n",
    "| RStudio        | IDE for R programming                |\n",
    "| GitHub         | Version control and collaboration    |\n",
    "| Apache Spark   | Big data processing                  |\n",
    "| Tableau        | Data visualization                   |"
   ]
  },
  {
   "cell_type": "markdown",
   "id": "5dbf8751",
   "metadata": {},
   "source": [
    "## Arithmetic Expressions Examples\n",
    "Examples include addition (`+`), subtraction (`-`), multiplication (`*`), and division (`/`)."
   ]
  },
  {
   "cell_type": "code",
   "execution_count": null,
   "id": "7b978a08",
   "metadata": {},
   "outputs": [],
   "source": [
    "# Multiply and add numbers\n",
    "(5 * 4) + 3"
   ]
  },
  {
   "cell_type": "code",
   "execution_count": null,
   "id": "880ea5d0",
   "metadata": {},
   "outputs": [],
   "source": [
    "# Convert minutes to hours\n",
    "minutes = 150\n",
    "hours = minutes / 60\n",
    "hours"
   ]
  },
  {
   "cell_type": "code",
   "execution_count": null,
   "id": "b32d6841",
   "metadata": {},
   "outputs": [],
   "source": [
    "# List objectives\n",
    "objectives = [\"Understand data science tools\", \"Practice coding\", \"Use GitHub\", \"Create visualizations\"]\n",
    "for obj in objectives:\n",
    "    print(obj)"
   ]
  },
  {
   "cell_type": "markdown",
   "id": "e708ffcc",
   "metadata": {},
   "source": [
    "## Author\n",
    "Ofir Alfredo Huatuco Ruiz"
   ]
  }
 ],
 "metadata": {},
 "nbformat": 4,
 "nbformat_minor": 5
}
